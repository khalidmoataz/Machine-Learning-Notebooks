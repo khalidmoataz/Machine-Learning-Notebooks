{
 "cells": [
  {
   "cell_type": "code",
   "execution_count": 1,
   "metadata": {},
   "outputs": [],
   "source": [
    "import cv2\n",
    "import numpy as np"
   ]
  },
  {
   "cell_type": "code",
   "execution_count": 2,
   "metadata": {},
   "outputs": [],
   "source": [
    "image = cv2.imread('bird.jpg')"
   ]
  },
  {
   "cell_type": "code",
   "execution_count": 3,
   "metadata": {},
   "outputs": [],
   "source": [
    "Red = image[:,:,0]\n",
    "Green = image[:,:,1]\n",
    "Blue = image[:,:,2]"
   ]
  },
  {
   "cell_type": "code",
   "execution_count": 4,
   "metadata": {},
   "outputs": [],
   "source": [
    "#cv2.imshow('Red',Red)\n",
    "#cv2.imshow('Green',Green)\n",
    "#cv2.imshow('Blue',Blue)\n",
    "#cv2.waitKey(0)\n",
    "#cv2.destroyAllWindows()"
   ]
  },
  {
   "cell_type": "code",
   "execution_count": 16,
   "metadata": {},
   "outputs": [],
   "source": [
    "# LUT\n",
    "#image = cv2.imread('bird.jpg')\n",
    "#image = cv2.cvtColor(image,cv2.COLOR_BGR2RGB)\n",
    "#pimg = Image.fromarray(image)\n",
    "#pimg = pimg.convert(\"new\",palettee=Image.ADAPTIVE,color = 256)\n",
    "#pimg.save(\"newimage.png\")\n",
    "#pimg.close()"
   ]
  },
  {
   "cell_type": "code",
   "execution_count": null,
   "metadata": {},
   "outputs": [
    {
     "name": "stdout",
     "output_type": "stream",
     "text": [
      "(225, 225, 3)\n"
     ]
    }
   ],
   "source": [
    "import cv2\n",
    "import numpy as np\n",
    "# Another LUT code\n",
    "image = cv2.imread('bird.jpg')\n",
    "print(image.shape)\n",
    "\n",
    "image = cv2.resize(image,(200,200))\n",
    "\n",
    "z = image.reshape((-1,3)) # Convert image to 2D (-1) for unknown rows\n",
    "z = np.float32(z) # Kmeans accept float only\n",
    "cv2.imshow('Before',image)\n",
    "\n",
    "\n",
    "criteria = (cv2.TERM_CRITERIA_EPS + cv2.TERM_CRITERIA_MAX_ITER, 10, 1) \n",
    "K = 128\n",
    "_,label,lut = cv2.kmeans(z,K,None,criteria,10,cv2.KMEANS_RANDOM_CENTERS) \n",
    "lut = np.uint8(lut)\n",
    "\n",
    "res = lut[label.flatten()] \n",
    "res2 = res.reshape((image.shape)) \n",
    "\n",
    "cv2.imshow('After',res2)\n",
    "cv2.waitKey(0)\n",
    "cv2.destroyAllWindows()"
   ]
  },
  {
   "cell_type": "code",
   "execution_count": null,
   "metadata": {},
   "outputs": [],
   "source": []
  }
 ],
 "metadata": {
  "kernelspec": {
   "display_name": "Python 3",
   "language": "python",
   "name": "python3"
  },
  "language_info": {
   "codemirror_mode": {
    "name": "ipython",
    "version": 3
   },
   "file_extension": ".py",
   "mimetype": "text/x-python",
   "name": "python",
   "nbconvert_exporter": "python",
   "pygments_lexer": "ipython3",
   "version": "3.7.3"
  }
 },
 "nbformat": 4,
 "nbformat_minor": 4
}
